{
 "cells": [
  {
   "cell_type": "markdown",
   "metadata": {},
   "source": [
    "# Extract catalogs using the API\n",
    "\n",
    "The following code demonstrates how to query JSON catalogs using the API. Feel free to borrow from it as a skeleton for your actual code.\n",
    "\n",
    "We begin by defining some constants and helper functions. The USERNAME is your web portal username. The API_KEY is a REST API key which you can generate by navigating to Tools -> REST API Key Manager on the website and copying the generated key. HOST is the server the API will run requests against.\n",
    "\n",
    "The run_query_progress_checks function will be used later to check how far along a query is at regular time intervals.\n"
   ]
  },
  {
   "cell_type": "code",
   "execution_count": 1,
   "metadata": {},
   "outputs": [],
   "source": [
    "from bdc_api import BdcApi\n",
    "import time\n",
    "\n",
    "# TODO: Replace this with your username.\n",
    "USERNAME = 'example_username'\n",
    "# TODO: Replace this with your API key.\n",
    "API_KEY = '83212a59-291c-4fad-a6ea-590edbea9fdd'\n",
    "HOST = 'https://minos.lbl.gov'\n",
    "\n",
    "def run_query_progress_checks(query_id):\n",
    "    \"\"\"Run subsequent checks every 3 seconds to see if a query succeeded.\n",
    "\n",
    "    Parameters:\n",
    "\n",
    "        :query_id: Valid query ID.\n",
    "\n",
    "    Returns:\n",
    "\n",
    "        - Named tuple object QueryInfo where the `progress` field\n",
    "          contains the percentage progress of the query and the `status`\n",
    "          field includes the job status.\n",
    "\n",
    "    Raises:\n",
    "\n",
    "        - None.\n",
    "    \"\"\"\n",
    "    print ('Checking query progress every 3 seconds for query {0}'.format(query_id))\n",
    "    query_info = BdcApi.QueryInfo(progress='0%', status='in progress')\n",
    "    while query_info.progress != BdcApi.COMPLETE_QUERY and \\\n",
    "            query_info.status not in BdcApi.COMPLETE_QUERY_STATUS:\n",
    "        time.sleep(3)\n",
    "        query_info = api.check_query_progress(query_id)\n",
    "        print ('Current query progress: {0}'.format(query_info.progress))\n",
    "        print ('Current job status: {0}'.format(query_info.status))\n",
    "    return query_info"
   ]
  },
  {
   "cell_type": "markdown",
   "metadata": {},
   "source": [
    "We now instantiate an instance of BdcApi which will be used throughout for all API calls. Note how it depends only on username, a REST API key and a hostname."
   ]
  },
  {
   "cell_type": "code",
   "execution_count": 2,
   "metadata": {},
   "outputs": [],
   "source": [
    "# 0. Setup BdcApi object:\n",
    "api = BdcApi(username=USERNAME, api_key=API_KEY,\n",
    "        hostname=HOST)"
   ]
  },
  {
   "cell_type": "markdown",
   "metadata": {},
   "source": [
    "The following call returns the catalogs (JSON files) for all accessible data collections. Note that the catalogs are ordered by data collection so we parse the returned JSON into catalog_list which will include a list of JSON files we can then request downloading:"
   ]
  },
  {
   "cell_type": "code",
   "execution_count": 3,
   "metadata": {},
   "outputs": [
    {
     "name": "stdout",
     "output_type": "stream",
     "text": [
      "Requesting all accessible catalogs\n",
      "Found 577 accessible catalogs\n"
     ]
    }
   ],
   "source": [
    "# 1. Get list of accessible catalogs:\n",
    "print('Requesting all accessible catalogs')\n",
    "response = api.get_files(extensions='json')\n",
    "catalog_list = []\n",
    "for coll in response:\n",
    "    catalog_list += response[coll]\n",
    "print('Found {0} accessible catalogs'.format(len(catalog_list)))"
   ]
  },
  {
   "cell_type": "markdown",
   "metadata": {},
   "source": [
    "We now make a query for those files with api.start_files_query. Then we save the results using api.save_file. The newly generated zip file will then be available in your JupyterHub home directory."
   ]
  },
  {
   "cell_type": "code",
   "execution_count": 4,
   "metadata": {},
   "outputs": [
    {
     "name": "stdout",
     "output_type": "stream",
     "text": [
      "Submitted files query request with query ID 5f722e743d28ed7a0e5fbb75\n",
      "        to download 577 catalogs\n",
      "Checking query progress every 3 seconds for query 5f722e743d28ed7a0e5fbb75\n",
      "Current query progress: 0%\n",
      "Current job status: processing\n",
      "Current query progress: 0%\n",
      "Current job status: processing\n",
      "Current query progress: 3%\n",
      "Current job status: processing\n",
      "Current query progress: 100%\n",
      "Current job status: success\n",
      "Query completed, moving results to user JupyterHub home\n"
     ]
    }
   ],
   "source": [
    "# 2. Download the returned list:\n",
    "file_query_id = api.start_files_query(files=catalog_list)\n",
    "print (\n",
    "    \"\"\"Submitted files query request with query ID {0}\n",
    "        to download {1} catalogs\"\"\".format(file_query_id, len(catalog_list)))\n",
    "query_info = run_query_progress_checks(file_query_id)\n",
    "if query_info.progress == BdcApi.COMPLETE_QUERY:\n",
    "    print ('Query completed, moving results to user JupyterHub home')\n",
    "    result = api.save_file(file_query_id, jupyterhub=True)"
   ]
  }
 ],
 "metadata": {
  "kernelspec": {
   "display_name": "Python 3",
   "language": "python",
   "name": "python3"
  },
  "language_info": {
   "codemirror_mode": {
    "name": "ipython",
    "version": 3
   },
   "file_extension": ".py",
   "mimetype": "text/x-python",
   "name": "python",
   "nbconvert_exporter": "python",
   "pygments_lexer": "ipython3",
   "version": "3.6.3"
  }
 },
 "nbformat": 4,
 "nbformat_minor": 2
}
